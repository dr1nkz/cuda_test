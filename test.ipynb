{
 "cells": [
  {
   "cell_type": "code",
   "execution_count": null,
   "metadata": {
    "vscode": {
     "languageId": "plaintext"
    }
   },
   "outputs": [],
   "source": [
    "apt install htop\n",
    "export CPU=amd\n",
    "export nested_val=1\n",
    "apt list --upgradable\n",
    "nano /etc/apt/sources.list\n",
    "apt install dirmngr ca-certificates software-properties-common apt-transport-https dkms curl -y\n",
    "apt update\n",
    "apt upgrade\n",
    "curl -fSsL https://developer.download.nvidia.com/compute/cuda/repos/debian12/x86_64/3bf863cc.pub | sudo gpg --dearmor | sudo tee /usr/share/keyrings/nvidia-drivers.gpg > /dev/null 2>&1\n",
    "echo 'deb [signed-by=/usr/share/keyrings/nvidia-drivers.gpg] https://developer.download.nvidia.com/compute/cuda/repos/debian12/x86_64/ /' | sudo tee /etc/apt/sources.list.d/nvidia-drivers.list\n",
    "apt update\n",
    "apt-cache policy cuda\n",
    "apt install cuda=12.4.1-1\n",
    "apt-cache policy cuda\n",
    "apt-mark hold cuda\n",
    "apt-mark showhold cuda\n",
    "curl -fsSL https://get.docker.com -o get-docker.sh\n",
    "sudo sh get-docker.sh\n",
    "sudo apt-get install nvidia-container-toolkit\n",
    "nvidia-ctk runtime configure --runtime=docker\n",
    "chown root:video /dev/fb0\n",
    "nvidia-smi\n",
    "history \n",
    "chown root:video /dev/dri/card1\n",
    "chown root:render /dev/dri/renderD128\n",
    "docker context use default\n",
    "systemctl restart docker\n",
    "apt install nvidia-driver"
   ]
  }
 ],
 "metadata": {
  "language_info": {
   "name": "python"
  }
 },
 "nbformat": 4,
 "nbformat_minor": 2
}
